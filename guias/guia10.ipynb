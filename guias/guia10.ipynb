{
 "cells": [
  {
   "attachments": {},
   "cell_type": "markdown",
   "metadata": {},
   "source": [
    "### Archivos"
   ]
  },
  {
   "cell_type": "code",
   "execution_count": 20,
   "metadata": {},
   "outputs": [],
   "source": [
    "# 1.1\n",
    "def cortar_lineas(nombre_archivo: str) -> int:\n",
    "    archivo = open(nombre_archivo, \"r\")\n",
    "    result: int = len(archivo.readlines()) \n",
    "    archivo.close()\n",
    "    return result"
   ]
  },
  {
   "cell_type": "code",
   "execution_count": 21,
   "metadata": {},
   "outputs": [
    {
     "data": {
      "text/plain": [
       "2"
      ]
     },
     "execution_count": 21,
     "metadata": {},
     "output_type": "execute_result"
    }
   ],
   "source": [
    "cortar_lineas(\"guia10.txt\")"
   ]
  },
  {
   "cell_type": "code",
   "execution_count": 40,
   "metadata": {},
   "outputs": [],
   "source": [
    "#1.2\n",
    "def existe_palabra(palabra: str, nombre_archivo: str) -> bool:\n",
    "    archivo = open(nombre_archivo, \"r\")\n",
    "    palabras: list = archivo.read().split()\n",
    "    result: bool = (palabra in palabras)\n",
    "    archivo.close()\n",
    "    return result"
   ]
  },
  {
   "cell_type": "code",
   "execution_count": 41,
   "metadata": {},
   "outputs": [
    {
     "data": {
      "text/plain": [
       "True"
      ]
     },
     "execution_count": 41,
     "metadata": {},
     "output_type": "execute_result"
    }
   ],
   "source": [
    "existe_palabra(\"Hola\", \"guia10.txt\")"
   ]
  },
  {
   "cell_type": "code",
   "execution_count": 42,
   "metadata": {},
   "outputs": [],
   "source": [
    "#1.3\n",
    "def cantidad_apariciones(nombre_archivo: str, palabra: str) -> int:\n",
    "    archivo = open(nombre_archivo, \"r\")\n",
    "    palabras: list = archivo.read().split()\n",
    "    result: int = palabras.count(palabra)\n",
    "    archivo.close()\n",
    "    return result"
   ]
  },
  {
   "cell_type": "code",
   "execution_count": 46,
   "metadata": {},
   "outputs": [
    {
     "data": {
      "text/plain": [
       "2"
      ]
     },
     "execution_count": 46,
     "metadata": {},
     "output_type": "execute_result"
    }
   ],
   "source": [
    "cantidad_apariciones(\"guia10.txt\", \"de\")"
   ]
  },
  {
   "cell_type": "code",
   "execution_count": 79,
   "metadata": {},
   "outputs": [],
   "source": [
    "#2\n",
    "def clonar_sin_comentarios(nombre_archivo: str):\n",
    "    archivo = open(nombre_archivo, \"r\")\n",
    "    nuevo_archivo = open(\"guia10_sincomentarios.txt\", \"w\")\n",
    "    lineas: list = archivo.readlines()\n",
    "    for linea in lineas:\n",
    "        for j in range(len(linea)):\n",
    "            if linea[j] != \" \" and linea[j] != \"#\":\n",
    "                nuevo_archivo.write(linea)\n",
    "                break\n",
    "            elif linea[j] == \" \":\n",
    "                j += 1\n",
    "            elif linea[j] == \"#\":\n",
    "                break\n",
    "    nuevo_archivo.close()\n",
    "    archivo.close()"
   ]
  },
  {
   "cell_type": "code",
   "execution_count": 81,
   "metadata": {},
   "outputs": [],
   "source": [
    "clonar_sin_comentarios(\"guia10.txt\")"
   ]
  },
  {
   "cell_type": "code",
   "execution_count": 77,
   "metadata": {},
   "outputs": [],
   "source": [
    "#3\n",
    "def reverso(nombre_archivo: str):\n",
    "    archivo = open(nombre_archivo, \"r\")\n",
    "    archivo_reverso = open(\"guia10_reverso.txt\", \"w\")\n",
    "    lineas: list = archivo.readlines()\n",
    "    for i in range(len(lineas)-1, -1, -1):\n",
    "       archivo_reverso.write(lineas[i])  \n",
    "    archivo.close()\n",
    "    archivo_reverso.close()"
   ]
  },
  {
   "cell_type": "code",
   "execution_count": 78,
   "metadata": {},
   "outputs": [],
   "source": [
    "reverso(\"guia10.txt\")"
   ]
  },
  {
   "cell_type": "code",
   "execution_count": 87,
   "metadata": {},
   "outputs": [],
   "source": [
    "#4\n",
    "def agregar_frase_final(nombre_archivo: str, frase: str):\n",
    "    archivo = open(nombre_archivo, \"a\")\n",
    "    archivo.write(frase)\n",
    "    archivo.close()"
   ]
  },
  {
   "cell_type": "code",
   "execution_count": 88,
   "metadata": {},
   "outputs": [],
   "source": [
    "agregar_frase_final(\"guia10.txt\", \"Argentina campeon del mundo\")"
   ]
  },
  {
   "cell_type": "code",
   "execution_count": 97,
   "metadata": {},
   "outputs": [],
   "source": [
    "#5\n",
    "def agregar_frase_inicio(nombre_archivo: str, frase: str):\n",
    "    archivo_inicial = open(nombre_archivo, \"r\")\n",
    "    lineas_archivo_inicial = archivo_inicial.readlines()\n",
    "    archivo_final = open(nombre_archivo, \"w\")\n",
    "    archivo_final.write(frase + \"\\n\")\n",
    "    for linea in lineas_archivo_inicial:\n",
    "        archivo_final.write(linea)\n",
    "\n",
    "    archivo_inicial.close()\n",
    "    archivo_final.close()"
   ]
  },
  {
   "cell_type": "code",
   "execution_count": 98,
   "metadata": {},
   "outputs": [],
   "source": [
    "agregar_frase_inicio(\"guia10.txt\", \"Presentacion:\")"
   ]
  },
  {
   "cell_type": "code",
   "execution_count": 136,
   "metadata": {},
   "outputs": [],
   "source": [
    "def leer_archivo_binario(nombre_archivo: str) -> list[str]:\n",
    "    palabras_legibles = []\n",
    "\n",
    "    archivo = open(nombre_archivo, \"rb\")\n",
    " \n",
    "    contenido_texto = archivo.read().decode(\"utf-8\", errors=\"ignore\")\n",
    "    palabras = contenido_texto.split()\n",
    "\n",
    "    for palabra in palabras:\n",
    "        palabra_limpia = \"\"\n",
    "        for caracter in palabra:\n",
    "            if caracter.isalnum() or caracter == \" \" or caracter == \"_\":\n",
    "                palabra_limpia += caracter\n",
    "\n",
    "        if len(palabra_limpia) >= 5:\n",
    "            palabras_legibles.append(palabra_limpia)\n",
    "\n",
    "    return palabras_legibles\n"
   ]
  },
  {
   "cell_type": "code",
   "execution_count": 138,
   "metadata": {},
   "outputs": [
    {
     "data": {
      "text/plain": [
       "['JFIFC',\n",
       " '701444',\n",
       " '982342',\n",
       " '1AQaq2BR3br',\n",
       " '456789CDEFGHIJSTUVWXYZcdefghijstuvwxyzM',\n",
       " 'Nmkh3NGhcR',\n",
       " 'ѱƏOzStOwDOӿwDyGӿӿעއSG4',\n",
       " 'wR5smS',\n",
       " 'ІMZFti',\n",
       " 'Gz6FiIއm7',\n",
       " 'x6OsB6',\n",
       " '_G4ӿӿ¼MⲵVJߞӤҜ1',\n",
       " 'cNTAfsMۓIރqMmIw',\n",
       " 'sKHZS',\n",
       " 'SJvhJE',\n",
       " 'zSt3KR',\n",
       " 'ZPnqAWFoO',\n",
       " 'sKHZu',\n",
       " 'R4OJPqGttz',\n",
       " 'JԩڥXaH3iDƃ',\n",
       " 'f0qTfc5QLǭE',\n",
       " 'SNzCz',\n",
       " 'ivQR4Psޔ21iURID',\n",
       " 'zfJ06',\n",
       " 'tBڂXI9JHuR',\n",
       " 'ExxgÚWz',\n",
       " 'ъqvSzޤyXHfN9QÌ',\n",
       " 'gNMޣhOZI',\n",
       " 'UtQ09',\n",
       " 'YCzz_zC',\n",
       " 'GbhҀP3r9R59',\n",
       " '841ZiBNFHb0j2zaqNUVLgrӦkq__z',\n",
       " 'GSWyC',\n",
       " 'qAqJZJrxQSqVLW8WZ9',\n",
       " 'jpڞr9R',\n",
       " 'RERcncMx7p6g3YEIUY1LzSFIt9zҁF6N',\n",
       " 'u9yPg5W8bnBH䞾AUkAŎ4HgR',\n",
       " 'VdmʳL4Exſd',\n",
       " 'kJZ4P9㰧',\n",
       " 'p8JlV',\n",
       " 'VoijiNvXC',\n",
       " 'hVIEPGcUY',\n",
       " 'VekqYsU5',\n",
       " 'Nރ1sF_OzYҿViT',\n",
       " 'xҊriAuELUA',\n",
       " 'Hm9REfcν',\n",
       " 'PLYQVEG9Ej',\n",
       " 'nԇƼWϊd',\n",
       " 'M_XtҞяԤihO',\n",
       " 'rڬG3h8kYG',\n",
       " 't4ben3ZeM',\n",
       " 'sOEQE',\n",
       " 'XxYSjuۥxſdw',\n",
       " 'gajREޔ74J8tu4ϭsRFxQuJi',\n",
       " 'NՓ8TRMDkKiTpVJ8uJp3t',\n",
       " 'TSeuajs4',\n",
       " 'KpLQEQEd_',\n",
       " 'UzWZCz',\n",
       " 'V9isJ4x8',\n",
       " 'zuIlFkQR9銭ikebEgߏA',\n",
       " 'QøMgO3gF_OJǆiFӨњruށQ2',\n",
       " 'jAסcƺiP',\n",
       " 'ʰ9P3aTeI8UNT',\n",
       " 'N8qӁJzҎ',\n",
       " 'RvfEVbVTƺryHkԉps9w',\n",
       " 'pf5wV8',\n",
       " 'UUږ5B3Xsc',\n",
       " '9WcڼgVusAsJҝ4jGV',\n",
       " 'sW_e9JqzVtVu46',\n",
       " 'yuy67keOsFdgttQsEQEFfxVT5oF_Ow',\n",
       " 'MdsOf9',\n",
       " 'izRpqS5nj4Vϡ',\n",
       " 'q5xI00U',\n",
       " 'WL8kVsY',\n",
       " 'zWhhpLsF7zAkwHFV15d3YŢނɤ',\n",
       " 'rӜ5JCrqUyȷפJisdRrMҗ4iiMSqlWKu__PWJHMt',\n",
       " 'ner7b1',\n",
       " 'FbKa9Cu6ʑFWkdHXaWq43',\n",
       " 'Kk6۸C',\n",
       " 'sݸSM4VnpnOĞRGOlf85JߊoO',\n",
       " 'sLXZpNzuO6ȴjK',\n",
       " 'ȮG73_kftuڗqrVEhMMaW7',\n",
       " 'WaќEPqɯ',\n",
       " 'LktL7SvlȀ',\n",
       " 'gIDIx',\n",
       " 'CGkq_FxJegho8VaY7is3USذγXykf',\n",
       " 'wOYm1Ȍ',\n",
       " 'Zڮڹ67MU',\n",
       " '3M3IgJTsUrsQv',\n",
       " '۷oVisNn',\n",
       " 'ds7HzlKHdz8',\n",
       " 'Rilwl5kNY',\n",
       " 'Q6FvĒI9MKR5i_',\n",
       " 'uZ1PjZ',\n",
       " 'bOqbjwrbOQԞRGfji9yO7Nicijc9iAofjeLy',\n",
       " '9n䎀תwi0IE8g9e',\n",
       " 'JeH2I1㦋0yƇƺ2NޠKHnhig9N',\n",
       " 'XGDs0yzL5St',\n",
       " '6Mclխu',\n",
       " 'Kouaޱdr2GU',\n",
       " 'WTۏs_',\n",
       " 'SYXZJĊ8KEr425r',\n",
       " 'fGism',\n",
       " 'HTpinnBep9PJG',\n",
       " 'ɠאSSךoƂVRR6',\n",
       " 'w1ZZׯA_ӢfUk',\n",
       " 'RNqԚʛĄc',\n",
       " 'kfIA5_wF5GNtE',\n",
       " 'VJxBVfVOnLne2¹ytpI',\n",
       " 'VwP8dp',\n",
       " 'PD5PvIBpA59BQGMx5yG',\n",
       " 'VӹukloO9Z旨Y',\n",
       " 'jIndrs',\n",
       " 'FpiWGAxf815co5',\n",
       " 'WxsMU䕆6uٮn3ƠHje燴Z',\n",
       " '2D6Qœi8IlZ',\n",
       " 'A9Y6l99ii8j6p0znE54J3ךoV4OJN1K',\n",
       " 'Ҩ8嘱cAacsqȘ1Zsx85iag',\n",
       " 'kGIAӢ',\n",
       " 'HAjeiReq',\n",
       " 'Dln0s',\n",
       " 'cKQ3Lϵ0Mi',\n",
       " 'WQCzCzR汼Q',\n",
       " 'Fb6GS4IEבG',\n",
       " 'ױqSd0٨08pkԼNclZ5H5Mp0k7Wվߥ',\n",
       " 'SEkКEd',\n",
       " 'zIڔ88_Ӣ1N',\n",
       " '9_ID5',\n",
       " 'n餚LOJMԇFkmkv',\n",
       " 'PkuCI5sc',\n",
       " 'y4ءih2ǷO',\n",
       " 'Xʱ觊ҴqzHFvW',\n",
       " 'wqaw8VTqZO',\n",
       " 'riڹhw',\n",
       " 'MxrEA',\n",
       " 'q1SAis744',\n",
       " 'uzWNRךoGZkvq',\n",
       " 'grEYsȯNhfxN',\n",
       " 'MrZEuf4Pzbp',\n",
       " '8BEL1it9957Znsy',\n",
       " 'ꝼgpYH5csybunLhOLtD',\n",
       " 'ExD_Jw5',\n",
       " 'iҶ70TxObItA',\n",
       " 'ѳdSKRdgTgi',\n",
       " 'xCdtgt',\n",
       " 'rBԯxxLuH6OpUi3pO56ӵcjW4',\n",
       " 'aWEkKabȴ',\n",
       " 'Ó84ҧN',\n",
       " 'fϪG8r',\n",
       " 'IQAmԉv',\n",
       " 'WFTGIic0jUe',\n",
       " 'U2ASmɷr',\n",
       " 'j0zAlϨfSMXW',\n",
       " 'ڬHKI5_x',\n",
       " 'SƆ3ȨMnMdtx',\n",
       " 'XZQ2Zm9m',\n",
       " 'r2MoQUsSk',\n",
       " 'SŒtQqilbDCxRF9',\n",
       " 'RirJ6',\n",
       " 'kJKvQ',\n",
       " 'U14a0OM42ޕNҚpzR9agcnOsN',\n",
       " '1aIZ1',\n",
       " 'AG3zjW',\n",
       " 'ZUX9ۃAl8F8UKNyϞz7IIF',\n",
       " 'IN1KA',\n",
       " 'h8P2q',\n",
       " '2ɐILL3ґUϛ2ThprFj9mNrfqOi99',\n",
       " 'jN126k2POqڢ销K',\n",
       " '9IvsHAҘlta7fxg',\n",
       " '7rmzRAHOPp',\n",
       " 'pz889iǾFo8i',\n",
       " '5LːFTNq',\n",
       " 'qkLQdsqN',\n",
       " 'zhèxIiߺCK',\n",
       " 'TGRuID',\n",
       " 'awBLTHR2D',\n",
       " 'EQzzs',\n",
       " 'pcz18yX',\n",
       " 'y9xQSRtSԏԘz8',\n",
       " 'ӌwS1NfrN',\n",
       " 'ڛ61xgi',\n",
       " '٠qE4n',\n",
       " 'T3NIIe',\n",
       " 'GPǃIS6t9',\n",
       " 'ҦZNKIڞ',\n",
       " 'RXRRbqڎh9MyRFĞ',\n",
       " 'SKTb2ml1ȧpTeAQw5',\n",
       " 'Pi2ўҦZwN1RAI4ip4RdvxPT0ZQf',\n",
       " 'pqM2ӏZAJUfCbf_LçLzp',\n",
       " 'zMmzR',\n",
       " 'Q_ʏTAG',\n",
       " 'dKG_RLc',\n",
       " 'Q_ʃrQ_ʓ迕_Q_ʏT_ʏTjڟnҢw9']"
      ]
     },
     "execution_count": 138,
     "metadata": {},
     "output_type": "execute_result"
    }
   ],
   "source": [
    "leer_archivo_binario(\"quijote.jpg\")"
   ]
  },
  {
   "cell_type": "code",
   "execution_count": null,
   "metadata": {},
   "outputs": [],
   "source": [
    "def agrupar_por_longitud(nombre_archivo: str) -> dict:\n",
    "    archivo = open(nombre_archivo, \"r\")\n",
    "    d: dict = {}\n",
    "\n",
    "    for linea in archivo.readlines():\n",
    "        palabras = linea.split()\n",
    "        for palabra in palabras:\n",
    "            clave = len(palabra)\n",
    "            if clave in d:\n",
    "                d[clave] = d[clave] + 1\n",
    "            else: \n",
    "                d[clave] = 1\n",
    "    \n",
    "    archivo.close()\n",
    "\n",
    "    return d\n",
    "\n"
   ]
  }
 ],
 "metadata": {
  "kernelspec": {
   "display_name": "Python 3",
   "language": "python",
   "name": "python3"
  },
  "language_info": {
   "codemirror_mode": {
    "name": "ipython",
    "version": 3
   },
   "file_extension": ".py",
   "mimetype": "text/x-python",
   "name": "python",
   "nbconvert_exporter": "python",
   "pygments_lexer": "ipython3",
   "version": "3.10.11"
  },
  "orig_nbformat": 4
 },
 "nbformat": 4,
 "nbformat_minor": 2
}
