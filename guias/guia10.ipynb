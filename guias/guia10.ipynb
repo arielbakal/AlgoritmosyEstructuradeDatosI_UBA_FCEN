{
 "cells": [
  {
   "attachments": {},
   "cell_type": "markdown",
   "metadata": {},
   "source": [
    "### Archivos"
   ]
  },
  {
   "cell_type": "code",
   "execution_count": 20,
   "metadata": {},
   "outputs": [],
   "source": [
    "# 1.1\n",
    "def cortar_lineas(nombre_archivo: str) -> int:\n",
    "    archivo = open(nombre_archivo, \"r\")\n",
    "    result: int = len(archivo.readlines()) \n",
    "    archivo.close()\n",
    "    return result"
   ]
  },
  {
   "cell_type": "code",
   "execution_count": 21,
   "metadata": {},
   "outputs": [
    {
     "data": {
      "text/plain": [
       "2"
      ]
     },
     "execution_count": 21,
     "metadata": {},
     "output_type": "execute_result"
    }
   ],
   "source": [
    "cortar_lineas(\"guia10.txt\")"
   ]
  },
  {
   "cell_type": "code",
   "execution_count": 32,
   "metadata": {},
   "outputs": [],
   "source": [
    "#1.2\n",
    "def existe_palabra(palabra: str, nombre_archivo: str) -> bool:\n",
    "    archivo = open(nombre_archivo, \"r\")\n",
    "    palabras = archivo.read().split()\n",
    "    result: bool = (palabra in palabras)\n",
    "    return result"
   ]
  },
  {
   "cell_type": "code",
   "execution_count": 33,
   "metadata": {},
   "outputs": [
    {
     "data": {
      "text/plain": [
       "True"
      ]
     },
     "execution_count": 33,
     "metadata": {},
     "output_type": "execute_result"
    }
   ],
   "source": [
    "existe_palabra(\"Hola\", \"guia10.txt\")"
   ]
  },
  {
   "cell_type": "code",
   "execution_count": null,
   "metadata": {},
   "outputs": [],
   "source": [
    "def agrupar_por_longitud(nombre_archivo: str) -> dict:\n",
    "    archivo = open(nombre_archivo, \"r\")\n",
    "    d: dict = {}\n",
    "\n",
    "    for linea in archivo.readlines():\n",
    "        palabras = linea.split()\n",
    "        for palabra in palabras:\n",
    "            clave = len(palabra)\n",
    "            if clave in d:\n",
    "                d[clave] = d[clave] + 1\n",
    "            else: \n",
    "                d[clave] = 1\n",
    "    \n",
    "    archivo.close()\n",
    "\n",
    "    return d\n",
    "\n"
   ]
  }
 ],
 "metadata": {
  "kernelspec": {
   "display_name": "Python 3",
   "language": "python",
   "name": "python3"
  },
  "language_info": {
   "codemirror_mode": {
    "name": "ipython",
    "version": 3
   },
   "file_extension": ".py",
   "mimetype": "text/x-python",
   "name": "python",
   "nbconvert_exporter": "python",
   "pygments_lexer": "ipython3",
   "version": "3.10.11"
  },
  "orig_nbformat": 4
 },
 "nbformat": 4,
 "nbformat_minor": 2
}
