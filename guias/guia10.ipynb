{
 "cells": [
  {
   "attachments": {},
   "cell_type": "markdown",
   "metadata": {},
   "source": [
    "### Archivos"
   ]
  },
  {
   "cell_type": "code",
   "execution_count": 1,
   "metadata": {},
   "outputs": [],
   "source": [
    "# 1.1\n",
    "def cortar_lineas(nombre_archivo: str) -> int:\n",
    "    archivo = open(nombre_archivo, \"r\")\n",
    "    result: int = len(archivo.readlines()) \n",
    "    archivo.close()\n",
    "    return result"
   ]
  },
  {
   "cell_type": "code",
   "execution_count": 2,
   "metadata": {},
   "outputs": [
    {
     "data": {
      "text/plain": [
       "6"
      ]
     },
     "execution_count": 2,
     "metadata": {},
     "output_type": "execute_result"
    }
   ],
   "source": [
    "cortar_lineas(\"guia10.txt\")"
   ]
  },
  {
   "cell_type": "code",
   "execution_count": 3,
   "metadata": {},
   "outputs": [],
   "source": [
    "#1.2\n",
    "def existe_palabra(palabra: str, nombre_archivo: str) -> bool:\n",
    "    archivo = open(nombre_archivo, \"r\")\n",
    "    palabras: list = archivo.read().split()\n",
    "    result: bool = (palabra in palabras)\n",
    "    archivo.close()\n",
    "    return result"
   ]
  },
  {
   "cell_type": "code",
   "execution_count": 4,
   "metadata": {},
   "outputs": [
    {
     "data": {
      "text/plain": [
       "True"
      ]
     },
     "execution_count": 4,
     "metadata": {},
     "output_type": "execute_result"
    }
   ],
   "source": [
    "existe_palabra(\"Hola\", \"guia10.txt\")"
   ]
  },
  {
   "cell_type": "code",
   "execution_count": 5,
   "metadata": {},
   "outputs": [],
   "source": [
    "#1.3\n",
    "def cantidad_apariciones(nombre_archivo: str, palabra: str) -> int:\n",
    "    archivo = open(nombre_archivo, \"r\")\n",
    "    palabras: list = archivo.read().split()\n",
    "    result: int = palabras.count(palabra)\n",
    "    archivo.close()\n",
    "    return result"
   ]
  },
  {
   "cell_type": "code",
   "execution_count": 6,
   "metadata": {},
   "outputs": [
    {
     "data": {
      "text/plain": [
       "2"
      ]
     },
     "execution_count": 6,
     "metadata": {},
     "output_type": "execute_result"
    }
   ],
   "source": [
    "cantidad_apariciones(\"guia10.txt\", \"de\")"
   ]
  },
  {
   "cell_type": "code",
   "execution_count": 7,
   "metadata": {},
   "outputs": [],
   "source": [
    "#2\n",
    "def clonar_sin_comentarios(nombre_archivo: str):\n",
    "    archivo = open(nombre_archivo, \"r\")\n",
    "    nuevo_archivo = open(\"guia10_sincomentarios.txt\", \"w\")\n",
    "    lineas: list = archivo.readlines()\n",
    "    for linea in lineas:\n",
    "        for j in range(len(linea)):\n",
    "            if linea[j] != \" \" and linea[j] != \"#\":\n",
    "                nuevo_archivo.write(linea)\n",
    "                break\n",
    "            elif linea[j] == \" \":\n",
    "                j += 1\n",
    "            elif linea[j] == \"#\":\n",
    "                break\n",
    "    nuevo_archivo.close()\n",
    "    archivo.close()"
   ]
  },
  {
   "cell_type": "code",
   "execution_count": 8,
   "metadata": {},
   "outputs": [],
   "source": [
    "clonar_sin_comentarios(\"guia10.txt\")"
   ]
  },
  {
   "cell_type": "code",
   "execution_count": 9,
   "metadata": {},
   "outputs": [],
   "source": [
    "#3\n",
    "def reverso(nombre_archivo: str):\n",
    "    archivo = open(nombre_archivo, \"r\")\n",
    "    archivo_reverso = open(\"guia10_reverso.txt\", \"w\")\n",
    "    lineas: list = archivo.readlines()\n",
    "    for i in range(len(lineas)-1, -1, -1):\n",
    "       archivo_reverso.write(lineas[i])  \n",
    "    archivo.close()\n",
    "    archivo_reverso.close()"
   ]
  },
  {
   "cell_type": "code",
   "execution_count": 10,
   "metadata": {},
   "outputs": [],
   "source": [
    "reverso(\"guia10.txt\")"
   ]
  },
  {
   "cell_type": "code",
   "execution_count": 11,
   "metadata": {},
   "outputs": [],
   "source": [
    "#4\n",
    "def agregar_frase_final(nombre_archivo: str, frase: str):\n",
    "    archivo = open(nombre_archivo, \"a\")\n",
    "    archivo.write(frase)\n",
    "    archivo.close()"
   ]
  },
  {
   "cell_type": "code",
   "execution_count": 12,
   "metadata": {},
   "outputs": [],
   "source": [
    "agregar_frase_final(\"guia10.txt\", \"Argentina campeon del mundo\")"
   ]
  },
  {
   "cell_type": "code",
   "execution_count": 13,
   "metadata": {},
   "outputs": [],
   "source": [
    "#5\n",
    "def agregar_frase_inicio(nombre_archivo: str, frase: str):\n",
    "    archivo_inicial = open(nombre_archivo, \"r\")\n",
    "    lineas_archivo_inicial = archivo_inicial.readlines()\n",
    "    archivo_final = open(nombre_archivo, \"w\")\n",
    "    archivo_final.write(frase + \"\\n\")\n",
    "    for linea in lineas_archivo_inicial:\n",
    "        archivo_final.write(linea)\n",
    "\n",
    "    archivo_inicial.close()\n",
    "    archivo_final.close()"
   ]
  },
  {
   "cell_type": "code",
   "execution_count": 14,
   "metadata": {},
   "outputs": [],
   "source": [
    "agregar_frase_inicio(\"guia10.txt\", \"Presentacion:\")"
   ]
  },
  {
   "cell_type": "code",
   "execution_count": 15,
   "metadata": {},
   "outputs": [],
   "source": [
    "#6\n",
    "def leer_archivo_binario(nombre_archivo: str) -> list[str]:\n",
    "    palabras_legibles: list[str] = []\n",
    "\n",
    "    archivo = open(nombre_archivo, \"rb\")\n",
    " \n",
    "    contenido_texto: list[str] = archivo.read().decode(\"utf-8\", errors=\"ignore\")\n",
    "    palabras: list[str] = contenido_texto.split()\n",
    "\n",
    "    for palabra in palabras:\n",
    "        palabra_limpia: str = \"\"\n",
    "        for caracter in palabra:\n",
    "            if caracter.isalnum() or caracter == \" \" or caracter == \"_\":\n",
    "                palabra_limpia += caracter\n",
    "\n",
    "        if len(palabra_limpia) >= 5:\n",
    "            palabras_legibles.append(palabra_limpia)\n",
    "    \n",
    "    archivo.close()\n",
    "\n",
    "    return palabras_legibles\n"
   ]
  },
  {
   "cell_type": "code",
   "execution_count": 16,
   "metadata": {},
   "outputs": [
    {
     "data": {
      "text/plain": [
       "['JFIFC',\n",
       " '701444',\n",
       " '982342',\n",
       " '1AQaq2BR3br',\n",
       " '456789CDEFGHIJSTUVWXYZcdefghijstuvwxyzM',\n",
       " 'Nmkh3NGhcR',\n",
       " 'ѱƏOzStOwDOӿwDyGӿӿעއSG4',\n",
       " 'wR5smS',\n",
       " 'ІMZFti',\n",
       " 'Gz6FiIއm7',\n",
       " 'x6OsB6',\n",
       " '_G4ӿӿ¼MⲵVJߞӤҜ1',\n",
       " 'cNTAfsMۓIރqMmIw',\n",
       " 'sKHZS',\n",
       " 'SJvhJE',\n",
       " 'zSt3KR',\n",
       " 'ZPnqAWFoO',\n",
       " 'sKHZu',\n",
       " 'R4OJPqGttz',\n",
       " 'JԩڥXaH3iDƃ',\n",
       " 'f0qTfc5QLǭE',\n",
       " 'SNzCz',\n",
       " 'ivQR4Psޔ21iURID',\n",
       " 'zfJ06',\n",
       " 'tBڂXI9JHuR',\n",
       " 'ExxgÚWz',\n",
       " 'ъqvSzޤyXHfN9QÌ',\n",
       " 'gNMޣhOZI',\n",
       " 'UtQ09',\n",
       " 'YCzz_zC',\n",
       " 'GbhҀP3r9R59',\n",
       " '841ZiBNFHb0j2zaqNUVLgrӦkq__z',\n",
       " 'GSWyC',\n",
       " 'qAqJZJrxQSqVLW8WZ9',\n",
       " 'jpڞr9R',\n",
       " 'RERcncMx7p6g3YEIUY1LzSFIt9zҁF6N',\n",
       " 'u9yPg5W8bnBH䞾AUkAŎ4HgR',\n",
       " 'VdmʳL4Exſd',\n",
       " 'kJZ4P9㰧',\n",
       " 'p8JlV',\n",
       " 'VoijiNvXC',\n",
       " 'hVIEPGcUY',\n",
       " 'VekqYsU5',\n",
       " 'Nރ1sF_OzYҿViT',\n",
       " 'xҊriAuELUA',\n",
       " 'Hm9REfcν',\n",
       " 'PLYQVEG9Ej',\n",
       " 'nԇƼWϊd',\n",
       " 'M_XtҞяԤihO',\n",
       " 'rڬG3h8kYG',\n",
       " 't4ben3ZeM',\n",
       " 'sOEQE',\n",
       " 'XxYSjuۥxſdw',\n",
       " 'gajREޔ74J8tu4ϭsRFxQuJi',\n",
       " 'NՓ8TRMDkKiTpVJ8uJp3t',\n",
       " 'TSeuajs4',\n",
       " 'KpLQEQEd_',\n",
       " 'UzWZCz',\n",
       " 'V9isJ4x8',\n",
       " 'zuIlFkQR9銭ikebEgߏA',\n",
       " 'QøMgO3gF_OJǆiFӨњruށQ2',\n",
       " 'jAסcƺiP',\n",
       " 'ʰ9P3aTeI8UNT',\n",
       " 'N8qӁJzҎ',\n",
       " 'RvfEVbVTƺryHkԉps9w',\n",
       " 'pf5wV8',\n",
       " 'UUږ5B3Xsc',\n",
       " '9WcڼgVusAsJҝ4jGV',\n",
       " 'sW_e9JqzVtVu46',\n",
       " 'yuy67keOsFdgttQsEQEFfxVT5oF_Ow',\n",
       " 'MdsOf9',\n",
       " 'izRpqS5nj4Vϡ',\n",
       " 'q5xI00U',\n",
       " 'WL8kVsY',\n",
       " 'zWhhpLsF7zAkwHFV15d3YŢނɤ',\n",
       " 'rӜ5JCrqUyȷפJisdRrMҗ4iiMSqlWKu__PWJHMt',\n",
       " 'ner7b1',\n",
       " 'FbKa9Cu6ʑFWkdHXaWq43',\n",
       " 'Kk6۸C',\n",
       " 'sݸSM4VnpnOĞRGOlf85JߊoO',\n",
       " 'sLXZpNzuO6ȴjK',\n",
       " 'ȮG73_kftuڗqrVEhMMaW7',\n",
       " 'WaќEPqɯ',\n",
       " 'LktL7SvlȀ',\n",
       " 'gIDIx',\n",
       " 'CGkq_FxJegho8VaY7is3USذγXykf',\n",
       " 'wOYm1Ȍ',\n",
       " 'Zڮڹ67MU',\n",
       " '3M3IgJTsUrsQv',\n",
       " '۷oVisNn',\n",
       " 'ds7HzlKHdz8',\n",
       " 'Rilwl5kNY',\n",
       " 'Q6FvĒI9MKR5i_',\n",
       " 'uZ1PjZ',\n",
       " 'bOqbjwrbOQԞRGfji9yO7Nicijc9iAofjeLy',\n",
       " '9n䎀תwi0IE8g9e',\n",
       " 'JeH2I1㦋0yƇƺ2NޠKHnhig9N',\n",
       " 'XGDs0yzL5St',\n",
       " '6Mclխu',\n",
       " 'Kouaޱdr2GU',\n",
       " 'WTۏs_',\n",
       " 'SYXZJĊ8KEr425r',\n",
       " 'fGism',\n",
       " 'HTpinnBep9PJG',\n",
       " 'ɠאSSךoƂVRR6',\n",
       " 'w1ZZׯA_ӢfUk',\n",
       " 'RNqԚʛĄc',\n",
       " 'kfIA5_wF5GNtE',\n",
       " 'VJxBVfVOnLne2¹ytpI',\n",
       " 'VwP8dp',\n",
       " 'PD5PvIBpA59BQGMx5yG',\n",
       " 'VӹukloO9Z旨Y',\n",
       " 'jIndrs',\n",
       " 'FpiWGAxf815co5',\n",
       " 'WxsMU䕆6uٮn3ƠHje燴Z',\n",
       " '2D6Qœi8IlZ',\n",
       " 'A9Y6l99ii8j6p0znE54J3ךoV4OJN1K',\n",
       " 'Ҩ8嘱cAacsqȘ1Zsx85iag',\n",
       " 'kGIAӢ',\n",
       " 'HAjeiReq',\n",
       " 'Dln0s',\n",
       " 'cKQ3Lϵ0Mi',\n",
       " 'WQCzCzR汼Q',\n",
       " 'Fb6GS4IEבG',\n",
       " 'ױqSd0٨08pkԼNclZ5H5Mp0k7Wվߥ',\n",
       " 'SEkКEd',\n",
       " 'zIڔ88_Ӣ1N',\n",
       " '9_ID5',\n",
       " 'n餚LOJMԇFkmkv',\n",
       " 'PkuCI5sc',\n",
       " 'y4ءih2ǷO',\n",
       " 'Xʱ觊ҴqzHFvW',\n",
       " 'wqaw8VTqZO',\n",
       " 'riڹhw',\n",
       " 'MxrEA',\n",
       " 'q1SAis744',\n",
       " 'uzWNRךoGZkvq',\n",
       " 'grEYsȯNhfxN',\n",
       " 'MrZEuf4Pzbp',\n",
       " '8BEL1it9957Znsy',\n",
       " 'ꝼgpYH5csybunLhOLtD',\n",
       " 'ExD_Jw5',\n",
       " 'iҶ70TxObItA',\n",
       " 'ѳdSKRdgTgi',\n",
       " 'xCdtgt',\n",
       " 'rBԯxxLuH6OpUi3pO56ӵcjW4',\n",
       " 'aWEkKabȴ',\n",
       " 'Ó84ҧN',\n",
       " 'fϪG8r',\n",
       " 'IQAmԉv',\n",
       " 'WFTGIic0jUe',\n",
       " 'U2ASmɷr',\n",
       " 'j0zAlϨfSMXW',\n",
       " 'ڬHKI5_x',\n",
       " 'SƆ3ȨMnMdtx',\n",
       " 'XZQ2Zm9m',\n",
       " 'r2MoQUsSk',\n",
       " 'SŒtQqilbDCxRF9',\n",
       " 'RirJ6',\n",
       " 'kJKvQ',\n",
       " 'U14a0OM42ޕNҚpzR9agcnOsN',\n",
       " '1aIZ1',\n",
       " 'AG3zjW',\n",
       " 'ZUX9ۃAl8F8UKNyϞz7IIF',\n",
       " 'IN1KA',\n",
       " 'h8P2q',\n",
       " '2ɐILL3ґUϛ2ThprFj9mNrfqOi99',\n",
       " 'jN126k2POqڢ销K',\n",
       " '9IvsHAҘlta7fxg',\n",
       " '7rmzRAHOPp',\n",
       " 'pz889iǾFo8i',\n",
       " '5LːFTNq',\n",
       " 'qkLQdsqN',\n",
       " 'zhèxIiߺCK',\n",
       " 'TGRuID',\n",
       " 'awBLTHR2D',\n",
       " 'EQzzs',\n",
       " 'pcz18yX',\n",
       " 'y9xQSRtSԏԘz8',\n",
       " 'ӌwS1NfrN',\n",
       " 'ڛ61xgi',\n",
       " '٠qE4n',\n",
       " 'T3NIIe',\n",
       " 'GPǃIS6t9',\n",
       " 'ҦZNKIڞ',\n",
       " 'RXRRbqڎh9MyRFĞ',\n",
       " 'SKTb2ml1ȧpTeAQw5',\n",
       " 'Pi2ўҦZwN1RAI4ip4RdvxPT0ZQf',\n",
       " 'pqM2ӏZAJUfCbf_LçLzp',\n",
       " 'zMmzR',\n",
       " 'Q_ʏTAG',\n",
       " 'dKG_RLc',\n",
       " 'Q_ʃrQ_ʓ迕_Q_ʏT_ʏTjڟnҢw9']"
      ]
     },
     "execution_count": 16,
     "metadata": {},
     "output_type": "execute_result"
    }
   ],
   "source": [
    "leer_archivo_binario(\"quijote.jpg\")"
   ]
  },
  {
   "cell_type": "code",
   "execution_count": 17,
   "metadata": {},
   "outputs": [],
   "source": [
    "#7\n",
    "import pandas as pd\n",
    "def promedio_estudiante(nombre_archivo: str, lu: str) -> float:\n",
    "    # leo archivo csv y guardo una lista con listas de los valores de cada linea\n",
    "    datos_csv = pd.read_csv(nombre_archivo, header=None)\n",
    "    lineas: list[str] = datos_csv.values.tolist()\n",
    "\n",
    "    suma: float = 0\n",
    "    contador_notas: int = 0\n",
    "\n",
    "    for linea in lineas:\n",
    "        if linea[0] == lu:\n",
    "            suma = suma + linea[3]\n",
    "            contador_notas = contador_notas + 1\n",
    "    \n",
    "    if contador_notas != 0:\n",
    "        promedio: float = suma / contador_notas\n",
    "    else: \n",
    "        return 0\n",
    "\n",
    "    return promedio"
   ]
  },
  {
   "cell_type": "code",
   "execution_count": 18,
   "metadata": {},
   "outputs": [
    {
     "data": {
      "text/plain": [
       "7.4625"
      ]
     },
     "execution_count": 18,
     "metadata": {},
     "output_type": "execute_result"
    }
   ],
   "source": [
    "promedio_estudiante(\"guia10.csv\", \"1014/22\")"
   ]
  },
  {
   "attachments": {},
   "cell_type": "markdown",
   "metadata": {},
   "source": [
    "### Pilas"
   ]
  },
  {
   "cell_type": "code",
   "execution_count": 19,
   "metadata": {},
   "outputs": [],
   "source": [
    "import random\n",
    "#8\n",
    "def generar_numeros_al_azar(n: int, desde: int, hasta: int) -> list[int]:\n",
    "    rango: list[int] = list(range(desde, hasta + 1))\n",
    "    result: list[int] = random.sample(rango, n)\n",
    "    return result"
   ]
  },
  {
   "cell_type": "code",
   "execution_count": 20,
   "metadata": {},
   "outputs": [
    {
     "data": {
      "text/plain": [
       "[53, 45, 30, 62, 60, 70, 32, 58, 68, 41]"
      ]
     },
     "execution_count": 20,
     "metadata": {},
     "output_type": "execute_result"
    }
   ],
   "source": [
    "generar_numeros_al_azar(10, 0, 100)"
   ]
  },
  {
   "cell_type": "code",
   "execution_count": 21,
   "metadata": {},
   "outputs": [],
   "source": [
    "from queue import LifoQueue as Pila"
   ]
  },
  {
   "cell_type": "code",
   "execution_count": 22,
   "metadata": {},
   "outputs": [],
   "source": [
    "#9\n",
    "def generar_pila_azar(n: int, desde: int, hasta: int):\n",
    "    p = Pila()\n",
    "    numeros: list[int] = generar_numeros_al_azar(n, desde, hasta)\n",
    "    for numero in numeros:\n",
    "        p.put(numero)\n",
    "    return p"
   ]
  },
  {
   "cell_type": "code",
   "execution_count": 23,
   "metadata": {},
   "outputs": [
    {
     "name": "stdout",
     "output_type": "stream",
     "text": [
      "14\n",
      "54\n",
      "37\n",
      "61\n",
      "100\n",
      "70\n",
      "85\n",
      "82\n",
      "99\n",
      "49\n"
     ]
    }
   ],
   "source": [
    "p = generar_pila_azar(10, 0, 100)\n",
    "while not p.empty():\n",
    "    print(p.get())"
   ]
  },
  {
   "cell_type": "code",
   "execution_count": 24,
   "metadata": {},
   "outputs": [],
   "source": [
    "#10\n",
    "def cantidad_elementos(p: Pila()) -> int:\n",
    "    contador: int = 0\n",
    "    while not p.empty():\n",
    "        p.get()\n",
    "        contador = contador + 1\n",
    "    return contador"
   ]
  },
  {
   "cell_type": "code",
   "execution_count": 25,
   "metadata": {},
   "outputs": [
    {
     "data": {
      "text/plain": [
       "10"
      ]
     },
     "execution_count": 25,
     "metadata": {},
     "output_type": "execute_result"
    }
   ],
   "source": [
    "p = generar_pila_azar(10, 0, 100)\n",
    "cantidad_elementos(p)"
   ]
  },
  {
   "cell_type": "code",
   "execution_count": 26,
   "metadata": {},
   "outputs": [],
   "source": [
    "#11\n",
    "def valor_maximo(p: Pila()) -> int:\n",
    "    maximo: int = p.get()\n",
    "    while not p.empty():\n",
    "        num: int = p.get()\n",
    "        if num >= maximo:\n",
    "            maximo = num\n",
    "    return maximo\n"
   ]
  },
  {
   "cell_type": "code",
   "execution_count": 27,
   "metadata": {},
   "outputs": [
    {
     "data": {
      "text/plain": [
       "100"
      ]
     },
     "execution_count": 27,
     "metadata": {},
     "output_type": "execute_result"
    }
   ],
   "source": [
    "p = generar_pila_azar(10, 0, 100)\n",
    "valor_maximo(p)"
   ]
  },
  {
   "cell_type": "code",
   "execution_count": 28,
   "metadata": {},
   "outputs": [],
   "source": [
    "#12\n",
    "def esta_bien_balanceada(s: str) -> bool:\n",
    "    result: bool = True\n",
    "    parentesis: bool = False\n",
    "    for caracter in s:\n",
    "        if caracter == \"(\":\n",
    "            parentesis = True\n",
    "        elif caracter == \")\" and parentesis == False:\n",
    "            result = False\n",
    "            break\n",
    "        else:\n",
    "            parentesis == False\n",
    "    return result"
   ]
  },
  {
   "cell_type": "code",
   "execution_count": 29,
   "metadata": {},
   "outputs": [
    {
     "data": {
      "text/plain": [
       "False"
      ]
     },
     "execution_count": 29,
     "metadata": {},
     "output_type": "execute_result"
    }
   ],
   "source": [
    "esta_bien_balanceada(\"1 + ) 2 x 3 ( ( )\")"
   ]
  },
  {
   "attachments": {},
   "cell_type": "markdown",
   "metadata": {},
   "source": [
    "### Colas"
   ]
  },
  {
   "cell_type": "code",
   "execution_count": 30,
   "metadata": {},
   "outputs": [],
   "source": [
    "from queue import Queue as Cola"
   ]
  },
  {
   "cell_type": "code",
   "execution_count": 31,
   "metadata": {},
   "outputs": [],
   "source": [
    "#13\n",
    "def generar_cola_azar(n: int, desde: int, hasta: int) -> Cola():\n",
    "    c = Cola()\n",
    "    numeros: list[int] = generar_numeros_al_azar(n, desde, hasta)\n",
    "    for numero in numeros:\n",
    "        c.put(numero)\n",
    "    return c"
   ]
  },
  {
   "cell_type": "code",
   "execution_count": 32,
   "metadata": {},
   "outputs": [
    {
     "name": "stdout",
     "output_type": "stream",
     "text": [
      "71\n",
      "9\n",
      "96\n",
      "43\n",
      "13\n",
      "27\n",
      "83\n",
      "17\n",
      "4\n",
      "29\n"
     ]
    }
   ],
   "source": [
    "c = generar_cola_azar(10, 0, 100)\n",
    "while not c.empty():\n",
    "    print(c.get()) "
   ]
  },
  {
   "cell_type": "code",
   "execution_count": 33,
   "metadata": {},
   "outputs": [],
   "source": [
    "#14\n",
    "def cantidad_elementos(c: Cola()) -> int:\n",
    "    contador: int = 0\n",
    "    while not c.empty():\n",
    "        c.get()\n",
    "        contador = contador + 1\n",
    "    return contador"
   ]
  },
  {
   "cell_type": "code",
   "execution_count": 34,
   "metadata": {},
   "outputs": [
    {
     "data": {
      "text/plain": [
       "11"
      ]
     },
     "execution_count": 34,
     "metadata": {},
     "output_type": "execute_result"
    }
   ],
   "source": [
    "c = generar_cola_azar(11, 0, 100)\n",
    "cantidad_elementos(c)"
   ]
  },
  {
   "cell_type": "code",
   "execution_count": 35,
   "metadata": {},
   "outputs": [],
   "source": [
    "#15\n",
    "def valor_maximo(c: Cola()) -> int:\n",
    "    maximo: int = c.get()\n",
    "    while not c.empty():\n",
    "        num: int = c.get()\n",
    "        if num >= maximo:\n",
    "            maximo = num\n",
    "    return maximo"
   ]
  },
  {
   "cell_type": "code",
   "execution_count": 41,
   "metadata": {},
   "outputs": [
    {
     "data": {
      "text/plain": [
       "96"
      ]
     },
     "execution_count": 41,
     "metadata": {},
     "output_type": "execute_result"
    }
   ],
   "source": [
    "c = generar_cola_azar(11, 0, 100)\n",
    "valor_maximo(c)"
   ]
  },
  {
   "cell_type": "code",
   "execution_count": 46,
   "metadata": {},
   "outputs": [],
   "source": [
    "#16.1\n",
    "def armar_secuencia_de_bingo() -> Cola[int]:\n",
    "    return generar_cola_azar(12, 0, 99)"
   ]
  },
  {
   "cell_type": "code",
   "execution_count": 47,
   "metadata": {},
   "outputs": [
    {
     "name": "stdout",
     "output_type": "stream",
     "text": [
      "19\n",
      "40\n",
      "8\n",
      "22\n",
      "4\n",
      "2\n",
      "1\n",
      "13\n",
      "50\n",
      "54\n",
      "23\n",
      "63\n"
     ]
    }
   ],
   "source": [
    "c = armar_secuencia_de_bingo()\n",
    "while not c.empty():\n",
    "    print(c.get()) "
   ]
  },
  {
   "cell_type": "code",
   "execution_count": 104,
   "metadata": {},
   "outputs": [],
   "source": [
    "#16.2\n",
    "def jugar_carton_bingo(carton: list[int], bolillero: Cola[int]) -> int:\n",
    "    jugadas: int = 0\n",
    "    while not bolillero.empty() and not len(carton) == 0:\n",
    "        bolilla = bolillero.get()\n",
    "        if bolilla in carton:\n",
    "            carton.remove(bolilla)\n",
    "            jugadas = jugadas + 1\n",
    "        else:\n",
    "            jugadas = jugadas + 1\n",
    "    return jugadas"
   ]
  },
  {
   "cell_type": "code",
   "execution_count": 240,
   "metadata": {},
   "outputs": [
    {
     "data": {
      "text/plain": [
       "78"
      ]
     },
     "execution_count": 240,
     "metadata": {},
     "output_type": "execute_result"
    }
   ],
   "source": [
    "bolillas = random.sample( list(range(100)), len(list(range(100))) )\n",
    "bolillero = Cola()\n",
    "for bolilla in bolillas:\n",
    "    bolillero.put(bolilla)\n",
    "carton = random.sample(range(100), 10)\n",
    "\n",
    "jugar_carton_bingo(carton, bolillero)\n"
   ]
  },
  {
   "cell_type": "code",
   "execution_count": 241,
   "metadata": {},
   "outputs": [],
   "source": [
    "#17\n",
    "def n_pacientes_urgentes(c: Cola[(int, str, str)]) -> int:\n",
    "    pacientes_urgentes: int = 0\n",
    "    while not c.empty():\n",
    "        pedido: tuple[int, str, str] = c.get()\n",
    "        if pedido[0] in [1,2,3]:\n",
    "            pacientes_urgentes = pacientes_urgentes + 1\n",
    "    return pacientes_urgentes"
   ]
  },
  {
   "cell_type": "code",
   "execution_count": 246,
   "metadata": {},
   "outputs": [
    {
     "data": {
      "text/plain": [
       "1"
      ]
     },
     "execution_count": 246,
     "metadata": {},
     "output_type": "execute_result"
    }
   ],
   "source": [
    "pacientes = [(1, \"Tomas\", \"Cirugía General\"),(4, \"Jose\", \"Cardiologia\"),(10, \"Fernando\", \"Traumatologia\")]\n",
    "pedidos = Cola()\n",
    "for paciente in pacientes:\n",
    "    pedidos.put(paciente)\n",
    "\n",
    "n_pacientes_urgentes(pedidos)"
   ]
  },
  {
   "attachments": {},
   "cell_type": "markdown",
   "metadata": {},
   "source": [
    "### Diccionarios"
   ]
  },
  {
   "cell_type": "code",
   "execution_count": 37,
   "metadata": {},
   "outputs": [],
   "source": [
    "def agrupar_por_longitud(nombre_archivo: str) -> dict:\n",
    "    archivo = open(nombre_archivo, \"r\")\n",
    "    d: dict = {}\n",
    "\n",
    "    for linea in archivo.readlines():\n",
    "        palabras = linea.split()\n",
    "        for palabra in palabras:\n",
    "            clave = len(palabra)\n",
    "            if clave in d:\n",
    "                d[clave] = d[clave] + 1\n",
    "            else: \n",
    "                d[clave] = 1\n",
    "    \n",
    "    archivo.close()\n",
    "\n",
    "    return d"
   ]
  },
  {
   "cell_type": "code",
   "execution_count": 248,
   "metadata": {},
   "outputs": [
    {
     "data": {
      "text/plain": [
       "{4: 1, 2: 4, 6: 2, 3: 1, 10: 2, 7: 1, 5: 1, 1: 1, 9: 1}"
      ]
     },
     "execution_count": 248,
     "metadata": {},
     "output_type": "execute_result"
    }
   ],
   "source": [
    "agrupar_por_longitud(\"guia10_sincomentarios.txt\")"
   ]
  }
 ],
 "metadata": {
  "kernelspec": {
   "display_name": "Python 3",
   "language": "python",
   "name": "python3"
  },
  "language_info": {
   "codemirror_mode": {
    "name": "ipython",
    "version": 3
   },
   "file_extension": ".py",
   "mimetype": "text/x-python",
   "name": "python",
   "nbconvert_exporter": "python",
   "pygments_lexer": "ipython3",
   "version": "3.10.11"
  },
  "orig_nbformat": 4
 },
 "nbformat": 4,
 "nbformat_minor": 2
}
