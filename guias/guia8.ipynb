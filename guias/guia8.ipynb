{
 "cells": [
  {
   "attachments": {},
   "cell_type": "markdown",
   "metadata": {},
   "source": [
    "#### Primera Parte"
   ]
  },
  {
   "cell_type": "code",
   "execution_count": 22,
   "metadata": {},
   "outputs": [],
   "source": [
    "# 1.1\n",
    "\n",
    "def pertenece1(s: list, e: int) -> bool:\n",
    "    if s.count(s) == 0:\n",
    "        res: bool = False\n",
    "    else:\n",
    "        res:bool = True\n",
    "    return res"
   ]
  },
  {
   "cell_type": "code",
   "execution_count": 23,
   "metadata": {},
   "outputs": [],
   "source": [
    "def pertenece2(s: list, e: int) -> bool:\n",
    "    res: bool = False\n",
    "    for i in range(0, len(s), 1):\n",
    "        if s[i] == e:\n",
    "            res = True\n",
    "    return res"
   ]
  },
  {
   "cell_type": "code",
   "execution_count": 32,
   "metadata": {},
   "outputs": [],
   "source": [
    "def pertenece3(s: list, e: int) -> bool:\n",
    "    res: bool = False\n",
    "    i: int = 0\n",
    "    while i < len(s):\n",
    "        if s[i] == e:\n",
    "            res = True\n",
    "        i = i + 1\n",
    "    return res"
   ]
  },
  {
   "cell_type": "code",
   "execution_count": 33,
   "metadata": {},
   "outputs": [
    {
     "data": {
      "text/plain": [
       "False"
      ]
     },
     "execution_count": 33,
     "metadata": {},
     "output_type": "execute_result"
    }
   ],
   "source": [
    "pertenece3([1,2,3,4], 5)"
   ]
  },
  {
   "cell_type": "code",
   "execution_count": 47,
   "metadata": {},
   "outputs": [],
   "source": [
    "# 1.2\n",
    "\n",
    "def divide_a_todos(s: list, e: int) -> bool:\n",
    "    res: bool = True\n",
    "    i: int = 0\n",
    "    while i < len(s) and res == True: # sin el res == True se pierde eficacia\n",
    "        if s[0] % e != 0:\n",
    "            res = False\n",
    "        i = i + 1\n",
    "    return res\n",
    "        \n"
   ]
  },
  {
   "cell_type": "code",
   "execution_count": 49,
   "metadata": {},
   "outputs": [
    {
     "data": {
      "text/plain": [
       "True"
      ]
     },
     "execution_count": 49,
     "metadata": {},
     "output_type": "execute_result"
    }
   ],
   "source": [
    "divide_a_todos([1,2,3,4,5], 1)"
   ]
  },
  {
   "cell_type": "code",
   "execution_count": 55,
   "metadata": {},
   "outputs": [],
   "source": [
    "# 1.3\n",
    "\n",
    "def suma_total1(s: list) -> int:\n",
    "    res: int = 0\n",
    "    for i in range(0, len(s), 1):\n",
    "        res = res + s[i]\n",
    "    return res\n",
    "    \n",
    "def suma_total2(s: list) -> int:\n",
    "    res: int = 0\n",
    "    for i in s:\n",
    "        res = res +i\n",
    "    return res"
   ]
  },
  {
   "cell_type": "code",
   "execution_count": 58,
   "metadata": {},
   "outputs": [
    {
     "data": {
      "text/plain": [
       "102"
      ]
     },
     "execution_count": 58,
     "metadata": {},
     "output_type": "execute_result"
    }
   ],
   "source": [
    "suma_total2([1,1,100])"
   ]
  },
  {
   "cell_type": "code",
   "execution_count": 66,
   "metadata": {},
   "outputs": [],
   "source": [
    "# 1.4\n",
    "\n",
    "def ordenados(s: list) -> bool:\n",
    "    res: bool = True\n",
    "    for i in range(0, len(s)-1, 1):\n",
    "        if s[i] >= s[i+1]:\n",
    "            res = False\n",
    "    return res"
   ]
  },
  {
   "cell_type": "code",
   "execution_count": 67,
   "metadata": {},
   "outputs": [
    {
     "data": {
      "text/plain": [
       "False"
      ]
     },
     "execution_count": 67,
     "metadata": {},
     "output_type": "execute_result"
    }
   ],
   "source": [
    "ordenados([1,2,4,4,10,2])"
   ]
  },
  {
   "cell_type": "code",
   "execution_count": 85,
   "metadata": {},
   "outputs": [],
   "source": [
    "# 1.5\n",
    "\n",
    "def longitud_mayor_a_7(s: list) -> bool:\n",
    "    res: bool = False\n",
    "    for i in s:\n",
    "        if len(i) >= 7:\n",
    "            res = True\n",
    "    return res\n"
   ]
  },
  {
   "cell_type": "code",
   "execution_count": 87,
   "metadata": {},
   "outputs": [
    {
     "data": {
      "text/plain": [
       "True"
      ]
     },
     "execution_count": 87,
     "metadata": {},
     "output_type": "execute_result"
    }
   ],
   "source": [
    "longitud_mayor_a_7([\"hola\",\"asa\",\"sfsfsfdfsk\"])"
   ]
  },
  {
   "cell_type": "code",
   "execution_count": 91,
   "metadata": {},
   "outputs": [],
   "source": [
    "# 1.6\n",
    "\n",
    "def palindroma(s: str) -> bool:\n",
    "    res: bool = True\n",
    "    for i in range(0, len(s), 1):\n",
    "        if s[i] != s[len(s)-i-1]:\n",
    "            res = False\n",
    "    return res\n",
    "\n",
    "    "
   ]
  },
  {
   "cell_type": "code",
   "execution_count": 98,
   "metadata": {},
   "outputs": [
    {
     "data": {
      "text/plain": [
       "True"
      ]
     },
     "execution_count": 98,
     "metadata": {},
     "output_type": "execute_result"
    }
   ],
   "source": [
    "palindroma(\"menem\")"
   ]
  },
  {
   "cell_type": "code",
   "execution_count": 144,
   "metadata": {},
   "outputs": [],
   "source": [
    "# 1.7\n",
    "# Este ejercicio necesita implementarse con ord()\n",
    "\n",
    "def contraseña(s: str) -> str:\n",
    "    res: str = \"AMARILLA\"\n",
    "    minus = False\n",
    "    mayus = False\n",
    "    digito = False\n",
    "    if len(s) < 5:\n",
    "        res = \"ROJO\"\n",
    "        return res\n",
    "    for i in range(0, len(s), 1):\n",
    "        if ord('a') <= ord(s[i]) <= ord('z'):\n",
    "            minus = True\n",
    "        if ord('A') <= ord(s[i]) <= ord('Z'):\n",
    "            mayus = True\n",
    "        if '0' <= s[i] <= '9':\n",
    "            digito = True\n",
    "    if minus and mayus and digito:\n",
    "        res = \"VERDE\"\n",
    "    return res"
   ]
  },
  {
   "cell_type": "code",
   "execution_count": 146,
   "metadata": {},
   "outputs": [
    {
     "data": {
      "text/plain": [
       "'ROJO'"
      ]
     },
     "execution_count": 146,
     "metadata": {},
     "output_type": "execute_result"
    }
   ],
   "source": [
    "contraseña(\"hoza\")"
   ]
  },
  {
   "cell_type": "code",
   "execution_count": 151,
   "metadata": {},
   "outputs": [],
   "source": [
    "# 1.8\n",
    "\n",
    "def saldo_final(m: list) -> int:\n",
    "    saldo: int = 0\n",
    "    for i in range(0, len(a), 1):\n",
    "        if m[i][0] == \"I\":\n",
    "            saldo = saldo + m[i][1]\n",
    "        else:\n",
    "            saldo = saldo - m[i][1]\n",
    "    return saldo"
   ]
  },
  {
   "cell_type": "code",
   "execution_count": 154,
   "metadata": {},
   "outputs": [
    {
     "data": {
      "text/plain": [
       "1280"
      ]
     },
     "execution_count": 154,
     "metadata": {},
     "output_type": "execute_result"
    }
   ],
   "source": [
    "saldo_final([(\"I\", 2000),(\"R\", 20),(\"R\", 1000),(\"I\", 300)])"
   ]
  },
  {
   "cell_type": "code",
   "execution_count": 165,
   "metadata": {},
   "outputs": [],
   "source": [
    "# 1.9\n",
    "\n",
    "def tres_vocales_distintas(s: str) -> bool:\n",
    "    res: bool = False\n",
    "    vocales = ['a','e','i','o','u']\n",
    "    for i in range(0, len(s), 1):\n",
    "        if s[i] in vocales:\n",
    "            vocales.remove(s[i])\n",
    "    if len(vocales) <= 2:\n",
    "        res = True\n",
    "    return res"
   ]
  },
  {
   "cell_type": "code",
   "execution_count": 166,
   "metadata": {},
   "outputs": [
    {
     "data": {
      "text/plain": [
       "True"
      ]
     },
     "execution_count": 166,
     "metadata": {},
     "output_type": "execute_result"
    }
   ],
   "source": [
    "tres_vocales_distintas(\"holaaeeee\")"
   ]
  },
  {
   "attachments": {},
   "cell_type": "markdown",
   "metadata": {},
   "source": [
    "#### Segunda Parte"
   ]
  },
  {
   "cell_type": "code",
   "execution_count": 1,
   "metadata": {},
   "outputs": [],
   "source": [
    "#2.1\n",
    "def par_por_cero(l: list) -> list:\n",
    "\n",
    "    for i in range(0, len(l)):\n",
    "        if l[i] % 2 == 0:\n",
    "            l[i] = 0\n",
    "    \n",
    "    return l"
   ]
  },
  {
   "cell_type": "code",
   "execution_count": 4,
   "metadata": {},
   "outputs": [
    {
     "data": {
      "text/plain": [
       "[1, 0, 3, 0, 5]"
      ]
     },
     "execution_count": 4,
     "metadata": {},
     "output_type": "execute_result"
    }
   ],
   "source": [
    "par_por_cero([1,2,3,4,5])"
   ]
  },
  {
   "cell_type": "code",
   "execution_count": null,
   "metadata": {},
   "outputs": [],
   "source": [
    "#2.2\n",
    "\n",
    "def par_por_cero2(l: list) -> list:\n",
    "    res: list = l\n",
    "\n",
    "    for i in range(0, len(l)):\n",
    "        if l[i] % 2 == 0:\n",
    "            res[i] = 0\n",
    "        \n",
    "    return res"
   ]
  },
  {
   "cell_type": "code",
   "execution_count": 29,
   "metadata": {},
   "outputs": [],
   "source": [
    "#2.3\n",
    "\n",
    "def remover_vocales(s: str) -> str:\n",
    "    res: str = s\n",
    "    vocales: str = ['a','A','e','E','i','I','o','O','u','U']\n",
    "\n",
    "    for i in range(0, len(s)):\n",
    "        if s[i] in vocales:\n",
    "            res = res.replace(s[i], \"\")\n",
    "\n",
    "    return res"
   ]
  },
  {
   "cell_type": "code",
   "execution_count": 31,
   "metadata": {},
   "outputs": [
    {
     "data": {
      "text/plain": [
       "'hl cm sts'"
      ]
     },
     "execution_count": 31,
     "metadata": {},
     "output_type": "execute_result"
    }
   ],
   "source": [
    "remover_vocales('hola como estas')"
   ]
  },
  {
   "cell_type": "code",
   "execution_count": 39,
   "metadata": {},
   "outputs": [],
   "source": [
    "# 2.4\n",
    "\n",
    "def reemplaza_vocales(s: str) -> str:\n",
    "    res: str = s\n",
    "    vocales: str = ['a','A','e','E','i','I','o','O','u','U']\n",
    "\n",
    "    for i in range(0, len(s)):\n",
    "        if s[i] in vocales:\n",
    "            res = res.replace(s[i], \" \")\n",
    "\n",
    "    return res"
   ]
  },
  {
   "cell_type": "code",
   "execution_count": 41,
   "metadata": {},
   "outputs": [
    {
     "data": {
      "text/plain": [
       "'h l , c m   st s'"
      ]
     },
     "execution_count": 41,
     "metadata": {},
     "output_type": "execute_result"
    }
   ],
   "source": [
    "reemplaza_vocales(\"hola, como estas\")"
   ]
  },
  {
   "cell_type": "code",
   "execution_count": 52,
   "metadata": {},
   "outputs": [],
   "source": [
    "# 2.5\n",
    "\n",
    "def da_vuelta_string(s: str) -> str:\n",
    "    res: str = \"\"\n",
    "\n",
    "    for i in range(0, len(s)):\n",
    "        res += s[len(s)-i-1]\n",
    "\n",
    "    return res "
   ]
  },
  {
   "cell_type": "code",
   "execution_count": 53,
   "metadata": {},
   "outputs": [
    {
     "data": {
      "text/plain": [
       "'aloh'"
      ]
     },
     "execution_count": 53,
     "metadata": {},
     "output_type": "execute_result"
    }
   ],
   "source": [
    "da_vuelta_string(\"hola\")"
   ]
  }
 ],
 "metadata": {
  "kernelspec": {
   "display_name": "Python 3",
   "language": "python",
   "name": "python3"
  },
  "language_info": {
   "codemirror_mode": {
    "name": "ipython",
    "version": 3
   },
   "file_extension": ".py",
   "mimetype": "text/x-python",
   "name": "python",
   "nbconvert_exporter": "python",
   "pygments_lexer": "ipython3",
   "version": "3.10.11"
  },
  "orig_nbformat": 4
 },
 "nbformat": 4,
 "nbformat_minor": 2
}
