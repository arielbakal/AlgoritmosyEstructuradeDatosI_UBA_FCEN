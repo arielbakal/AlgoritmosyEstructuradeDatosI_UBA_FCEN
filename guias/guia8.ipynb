{
 "cells": [
  {
   "cell_type": "code",
   "execution_count": 22,
   "metadata": {},
   "outputs": [],
   "source": [
    "# 1.1\n",
    "\n",
    "def pertenece1(s: list, e: int):\n",
    "    if s.count(s) == 0:\n",
    "        res: bool = False\n",
    "    else:\n",
    "        res:bool = True\n",
    "    return res"
   ]
  },
  {
   "cell_type": "code",
   "execution_count": 23,
   "metadata": {},
   "outputs": [],
   "source": [
    "def pertenece2(s: list, e: int):\n",
    "    res: bool = False\n",
    "    for i in range(0, len(s), 1):\n",
    "        if s[i] == e:\n",
    "            res = True\n",
    "    return res"
   ]
  },
  {
   "cell_type": "code",
   "execution_count": 32,
   "metadata": {},
   "outputs": [],
   "source": [
    "def pertenece3(s: list, e: int):\n",
    "    res: bool = False\n",
    "    i: int = 0\n",
    "    while i < len(s):\n",
    "        if s[i] == e:\n",
    "            res = True\n",
    "        i = i + 1\n",
    "    return res"
   ]
  },
  {
   "cell_type": "code",
   "execution_count": 33,
   "metadata": {},
   "outputs": [
    {
     "data": {
      "text/plain": [
       "False"
      ]
     },
     "execution_count": 33,
     "metadata": {},
     "output_type": "execute_result"
    }
   ],
   "source": [
    "pertenece3([1,2,3,4], 5)"
   ]
  }
 ],
 "metadata": {
  "kernelspec": {
   "display_name": "Python 3",
   "language": "python",
   "name": "python3"
  },
  "language_info": {
   "codemirror_mode": {
    "name": "ipython",
    "version": 3
   },
   "file_extension": ".py",
   "mimetype": "text/x-python",
   "name": "python",
   "nbconvert_exporter": "python",
   "pygments_lexer": "ipython3",
   "version": "3.11.3"
  },
  "orig_nbformat": 4
 },
 "nbformat": 4,
 "nbformat_minor": 2
}
