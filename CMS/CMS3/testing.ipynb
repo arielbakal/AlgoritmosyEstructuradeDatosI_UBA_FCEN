{
 "cells": [
  {
   "cell_type": "code",
   "execution_count": 66,
   "metadata": {},
   "outputs": [],
   "source": [
    "def unir_diccionarios(a_unir: list[dict[str,str]]) -> dict[str,list[str]]:\n",
    "    \n",
    "    res: dict[str,list[str]] = {}\n",
    "    \n",
    "    for diccionario in a_unir:\n",
    "        for clave, valor in diccionario.items():\n",
    "            if clave in res:\n",
    "                res[clave].append(valor)\n",
    "            else:\n",
    "                res[clave] = [valor]\n",
    "\n",
    "    return res"
   ]
  },
  {
   "cell_type": "code",
   "execution_count": 67,
   "metadata": {},
   "outputs": [
    {
     "data": {
      "text/plain": [
       "{'a': [1, 5], 'b': [2, 3], 'c': [4, 10]}"
      ]
     },
     "execution_count": 67,
     "metadata": {},
     "output_type": "execute_result"
    }
   ],
   "source": [
    "unir_diccionarios([{'a': 1, 'b': 2}, {'b': 3, 'c': 4}, {'a': 5, 'c':10}])"
   ]
  },
  {
   "cell_type": "code",
   "execution_count": 68,
   "metadata": {},
   "outputs": [],
   "source": [
    "from queue import Queue\n",
    "from typing import Union\n",
    "\n",
    "def procesamiento_pedidos(pedidos: Queue[dict[str, Union[int, str, dict[str, int]]]],\n",
    "                          stock_productos: dict[str, int],\n",
    "                          precios_productos: dict[str, float]) -> list[dict[str, Union[int, str, float, dict[str, int]]]]:\n",
    "  \n",
    "    # inicializo mis pedidos procesados\n",
    "    pedidos_procesados: Queue = []\n",
    "    # llamo mi stock de productos para ir actualizandose segun pasan los pedidos\n",
    "    stock_productos_final: dict[str, int] = stock_productos\n",
    "\n",
    "    # ITERACION SOBRE LOS PEDIDOS #\n",
    "    while not pedidos.empty():\n",
    "\n",
    "        pedido: dict[str, Union[int, str, dict[str, int]]] = pedidos.get() # tomo primer pedido de la cola\n",
    "\n",
    "        pedido_procesado: dict[str, Union[int, str, dict[str, int]]] = pedido  # parto del pedido y lo voy procesando\n",
    "        estado: str = 'completo'  # inicializo el estado, por default 'completo'\n",
    "        precio_total: float = 0  # inicializo el precio_total\n",
    "\n",
    "        # Itero los productos y su cantidad pedida #\n",
    "        for producto_pedido, cantidad_pedida in pedido['productos'].items():\n",
    "\n",
    "            cantidad_pedida_final: int = 0  # inicializo la cantidad total que se lleva el cliente\n",
    "\n",
    "            stock: float = stock_productos[producto_pedido]  # tomo el stock del producto\n",
    "\n",
    "            # Comparo stock con la cantidad pedida #\n",
    "            if stock == 0: # Sin stock\n",
    "\n",
    "                estado = 'incompleto'\n",
    "                pedido_procesado['productos'][producto_pedido] = stock  # !\n",
    "\n",
    "            elif cantidad_pedida > stock: # Pedido excede stock\n",
    "\n",
    "                estado = 'incompleto'\n",
    "                precio_total += ( stock * precios_productos[producto_pedido] )\n",
    "                cantidad_pedida_final = stock\n",
    "                pedido_procesado['productos'][producto_pedido] = cantidad_pedida_final  # !\n",
    "\n",
    "            else: # Pedido <= stock\n",
    "\n",
    "                precio_total += ( cantidad_pedida * precios_productos[producto_pedido] )\n",
    "                cantidad_pedida_final = cantidad_pedida\n",
    "                pedido_procesado['productos'][producto_pedido] = cantidad_pedida_final  # !\n",
    "            \n",
    "            # ! : detallo la cantidad final que se lleva el cliente de un pedido\n",
    "\n",
    "            stock_productos_final[producto_pedido] = stock - cantidad_pedida_final  # Actualizo el stock\n",
    "        \n",
    "        pedido_procesado['precio_total'] = precio_total  \n",
    "        pedido_procesado['estado'] = estado\n",
    "\n",
    "        pedidos_procesados.append(pedido_procesado)  # agrego el pedido procesado\n",
    "\n",
    "    return pedidos_procesados"
   ]
  },
  {
   "cell_type": "code",
   "execution_count": 92,
   "metadata": {},
   "outputs": [],
   "source": [
    "pedidos = Queue()\n",
    "pedidos.put({'id': 1, 'cliente': 'Juan', 'productos': {'Manzana': 2, 'Pan': 4, 'Factura': 6}})\n",
    "pedidos.put({'id': 21, 'cliente': 'Gabirela', 'productos': {'Manzana': 2}})\n",
    "stock_productos = {'Manzana': 3, 'Leche': 5, 'Pan': 4, 'Factura': 10 }\n",
    "precios_productos = {'Manzana': 3.5, 'Leche': 5.5, 'Pan': 3.5, 'Factura': 2.75 }"
   ]
  },
  {
   "cell_type": "code",
   "execution_count": 93,
   "metadata": {},
   "outputs": [
    {
     "data": {
      "text/plain": [
       "[{'id': 1,\n",
       "  'cliente': 'Juan',\n",
       "  'productos': {'Manzana': 2, 'Pan': 4, 'Factura': 6},\n",
       "  'precio_total': 37.5,\n",
       "  'estado': 'completo'},\n",
       " {'id': 21,\n",
       "  'cliente': 'Gabirela',\n",
       "  'productos': {'Manzana': 1},\n",
       "  'precio_total': 3.5,\n",
       "  'estado': 'incompleto'}]"
      ]
     },
     "execution_count": 93,
     "metadata": {},
     "output_type": "execute_result"
    }
   ],
   "source": [
    "procesamiento_pedidos(pedidos, stock_productos, precios_productos)"
   ]
  }
 ],
 "metadata": {
  "kernelspec": {
   "display_name": "Python 3",
   "language": "python",
   "name": "python3"
  },
  "language_info": {
   "codemirror_mode": {
    "name": "ipython",
    "version": 3
   },
   "file_extension": ".py",
   "mimetype": "text/x-python",
   "name": "python",
   "nbconvert_exporter": "python",
   "pygments_lexer": "ipython3",
   "version": "3.10.11"
  },
  "orig_nbformat": 4
 },
 "nbformat": 4,
 "nbformat_minor": 2
}
