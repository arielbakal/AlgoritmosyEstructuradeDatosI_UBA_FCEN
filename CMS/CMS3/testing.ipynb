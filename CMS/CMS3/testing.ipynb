{
 "cells": [
  {
   "cell_type": "code",
   "execution_count": 29,
   "metadata": {},
   "outputs": [],
   "source": [
    "def unir_diccionarios(a_unir: list[dict[str,str]]) -> dict[str,list[str]]:\n",
    "    \n",
    "    res: dict[str,list[str]] = {}\n",
    "    \n",
    "    for diccionario in a_unir:\n",
    "        for clave, valor in diccionario.items():\n",
    "            if clave in res:\n",
    "                res[clave].append(valor)\n",
    "            else:\n",
    "                res[clave] = [valor]\n",
    "\n",
    "    return res"
   ]
  },
  {
   "cell_type": "code",
   "execution_count": 35,
   "metadata": {},
   "outputs": [
    {
     "data": {
      "text/plain": [
       "{'a': [5, 1], 'c': [10, 4], 'b': [2, 3]}"
      ]
     },
     "execution_count": 35,
     "metadata": {},
     "output_type": "execute_result"
    }
   ],
   "source": [
    "unir_diccionarios([{'a': 5, 'c':10}, {'a': 1, 'b': 2}, {'b': 3, 'c': 4}])"
   ]
  }
 ],
 "metadata": {
  "kernelspec": {
   "display_name": "Python 3",
   "language": "python",
   "name": "python3"
  },
  "language_info": {
   "codemirror_mode": {
    "name": "ipython",
    "version": 3
   },
   "file_extension": ".py",
   "mimetype": "text/x-python",
   "name": "python",
   "nbconvert_exporter": "python",
   "pygments_lexer": "ipython3",
   "version": "3.10.11"
  },
  "orig_nbformat": 4
 },
 "nbformat": 4,
 "nbformat_minor": 2
}
