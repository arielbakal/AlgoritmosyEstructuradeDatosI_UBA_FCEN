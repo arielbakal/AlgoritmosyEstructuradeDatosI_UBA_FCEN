{
 "cells": [
  {
   "cell_type": "code",
   "execution_count": 8,
   "metadata": {},
   "outputs": [],
   "source": [
    "def unir_diccionarios(a_unir: list[dict[str,str]]) -> dict[str,list[str]]:\n",
    "    \n",
    "    res: dict[str,list[str]] = {}\n",
    "    \n",
    "    for diccionario in a_unir:\n",
    "        for clave, valor in diccionario.items():\n",
    "            if clave in res:\n",
    "                res[clave].append(valor)\n",
    "            else:\n",
    "                res[clave] = [valor]\n",
    "\n",
    "    return res"
   ]
  },
  {
   "cell_type": "code",
   "execution_count": 9,
   "metadata": {},
   "outputs": [
    {
     "data": {
      "text/plain": [
       "{'a': [1, 5], 'b': [2, 3], 'c': [4, 10]}"
      ]
     },
     "execution_count": 9,
     "metadata": {},
     "output_type": "execute_result"
    }
   ],
   "source": [
    "unir_diccionarios([{'a': 1, 'b': 2}, {'b': 3, 'c': 4}, {'a': 5, 'c':10}])"
   ]
  },
  {
   "cell_type": "code",
   "execution_count": 10,
   "metadata": {},
   "outputs": [],
   "source": [
    "from queue import Queue\n",
    "from typing import List\n",
    "from typing import Dict\n",
    "from typing import Union\n",
    "\n",
    "def procesamiento_pedidos(pedidos: Queue,\n",
    "                          stock_productos: Dict[str, int],\n",
    "                          precios_productos: Dict[str, float]) -> List[Dict[str, Union[int, str, float, Dict[str, int]]]]:\n",
    "  \n",
    "  # inicializo mis pedidos procesados\n",
    "  pedidos_procesados: List = []\n",
    "  # llamo mi stock de productos para ir actualizandose segun pasan los pedidos\n",
    "  stock_productos_final: Dict[str, int] = stock_productos\n",
    "\n",
    "  # ITERACION SOBRE LOS PEDIDOS #\n",
    "  while not pedidos.empty():\n",
    "\n",
    "    pedido: Dict[str, Union[int, str, Dict[str, int]]] = pedidos.get() # tomo primer pedido de la cola\n",
    "\n",
    "    pedido_procesado: Dict[str, Union[int, str, float, Dict[str, int]]] = pedido  # parto del pedido y lo voy procesando\n",
    "    estado: str = 'completo'  # inicializo el estado, por default 'completo'\n",
    "    precio_total: float = 0  # inicializo el precio_total\n",
    "\n",
    "    # Itero los productos y su cantidad pedida #\n",
    "    for producto_pedido, cantidad_pedida in pedido['productos'].items():\n",
    "\n",
    "      cantidad_pedida_final: int = 0  # inicializo la cantidad total que se lleva el cliente\n",
    "\n",
    "      stock: int = stock_productos[producto_pedido]  # tomo el stock del producto\n",
    "\n",
    "      # Comparo stock con la cantidad pedida #\n",
    "      if stock == 0: # Sin stock\n",
    "\n",
    "        estado = 'incompleto'\n",
    "        pedido_procesado['productos'][producto_pedido] = stock  # !\n",
    "\n",
    "      elif cantidad_pedida > stock: # Pedido excede stock\n",
    "\n",
    "        estado = 'incompleto'\n",
    "        precio_total += ( stock * precios_productos[producto_pedido] )\n",
    "        cantidad_pedida_final = stock\n",
    "        pedido_procesado['productos'][producto_pedido] = cantidad_pedida_final  # !\n",
    "\n",
    "      else: # Pedido <= stock\n",
    "\n",
    "        precio_total += ( cantidad_pedida * precios_productos[producto_pedido] )\n",
    "        cantidad_pedida_final = cantidad_pedida\n",
    "        pedido_procesado['productos'][producto_pedido] = cantidad_pedida_final  # !\n",
    "      \n",
    "      # ! : detallo la cantidad final que se lleva el cliente de un pedido\n",
    "\n",
    "      stock_productos_final[producto_pedido] = stock - cantidad_pedida_final  # Actualizo el stock\n",
    "    \n",
    "    pedido_procesado['precio_total'] = precio_total  \n",
    "    pedido_procesado['estado'] = estado \n",
    "\n",
    "    pedidos_procesados.append(pedido_procesado)  # agrego el pedido procesado\n",
    "\n",
    "    print('pedido =', pedido_procesado)\n",
    "\n",
    "    print('Stock =', stock_productos_final)\n",
    "\n",
    "  return pedidos_procesados"
   ]
  },
  {
   "cell_type": "code",
   "execution_count": 11,
   "metadata": {},
   "outputs": [],
   "source": [
    "pedidos = Queue()\n",
    "pedidos.put({'id': 1, 'cliente': 'Juan', 'productos': {'Manzana': 2, 'Pan': 4, 'Factura': 6}})\n",
    "pedidos.put({'id': 1, 'cliente': 'Juan', 'productos': {'Manzana': 2}})\n",
    "stock_productos = {'Manzana': 4, 'Leche': 5, 'Pan': 4, 'Factura': 10 }\n",
    "precios_productos = {'Manzana': 3.5, 'Leche': 5.5, 'Pan': 3.5, 'Factura': 2.75 }"
   ]
  },
  {
   "cell_type": "code",
   "execution_count": 12,
   "metadata": {},
   "outputs": [
    {
     "name": "stdout",
     "output_type": "stream",
     "text": [
      "pedido = {'id': 1, 'cliente': 'Juan', 'productos': {'Manzana': 2, 'Pan': 4, 'Factura': 6}, 'precio_total': 37.5, 'estado': 'completo'}\n",
      "Stock = {'Manzana': 2, 'Leche': 5, 'Pan': 0, 'Factura': 4}\n",
      "pedido = {'id': 1, 'cliente': 'Juan', 'productos': {'Manzana': 2}, 'precio_total': 7.0, 'estado': 'completo'}\n",
      "Stock = {'Manzana': 0, 'Leche': 5, 'Pan': 0, 'Factura': 4}\n"
     ]
    },
    {
     "data": {
      "text/plain": [
       "[{'id': 1,\n",
       "  'cliente': 'Juan',\n",
       "  'productos': {'Manzana': 2, 'Pan': 4, 'Factura': 6},\n",
       "  'precio_total': 37.5,\n",
       "  'estado': 'completo'},\n",
       " {'id': 1,\n",
       "  'cliente': 'Juan',\n",
       "  'productos': {'Manzana': 2},\n",
       "  'precio_total': 7.0,\n",
       "  'estado': 'completo'}]"
      ]
     },
     "execution_count": 12,
     "metadata": {},
     "output_type": "execute_result"
    }
   ],
   "source": [
    "procesamiento_pedidos(pedidos, stock_productos, precios_productos)"
   ]
  },
  {
   "cell_type": "code",
   "execution_count": 13,
   "metadata": {},
   "outputs": [],
   "source": [
    "def avanzarFila(fila: Queue, min: int):\n",
    "\n",
    "  historico_clientes: int = fila.qsize() \n",
    "\n",
    "  # 10:00\n",
    "  historico_clientes += 1\n",
    "  fila.put(historico_clientes) # agrego nueva persona \n",
    "\n",
    "  if min >= 1 :\n",
    "\n",
    "    cliente_sin_solucion: int = 0\n",
    "    i: int = 0 # contador de 3 min para reingresar cliente_sin_solucion a la fila\n",
    "  \n",
    "    for m in range(1, min + 1):\n",
    "\n",
    "      if (m % 4 == 0):\n",
    "        historico_clientes += 1\n",
    "        fila.put(historico_clientes)\n",
    "\n",
    "      i += 1\n",
    "      \n",
    "      if i == 3 and cliente_sin_solucion != 0:\n",
    "        fila.put(cliente_sin_solucion)\n",
    "        cliente_sin_solucion = 0\n",
    "\n",
    "      if not fila.empty():\n",
    "        # CAJA 1\n",
    "        if (((m - 1) % 10) == 0) or m == 1:\n",
    "          fila.get()\n",
    "\n",
    "        # CAJA 2  \n",
    "        if (((m - 3) % 4) == 0) or m == 3:\n",
    "          fila.get()\n",
    "\n",
    "        # CAJA 3\n",
    "        if (((m - 2) % 4) == 0) or m == 2:\n",
    "          i = 0\n",
    "          cliente_sin_solucion = fila.get()"
   ]
  },
  {
   "cell_type": "code",
   "execution_count": 20,
   "metadata": {},
   "outputs": [
    {
     "name": "stdout",
     "output_type": "stream",
     "text": [
      "4\n",
      "5\n",
      "2\n"
     ]
    }
   ],
   "source": [
    "fila = Queue()\n",
    "for i in range(1, 4):\n",
    "   fila.put(i)\n",
    "\n",
    "avanzarFila(fila, 5)\n",
    "\n",
    "while not fila.empty():\n",
    "    res = fila.get()\n",
    "    print(res)"
   ]
  }
 ],
 "metadata": {
  "kernelspec": {
   "display_name": "Python 3",
   "language": "python",
   "name": "python3"
  },
  "language_info": {
   "codemirror_mode": {
    "name": "ipython",
    "version": 3
   },
   "file_extension": ".py",
   "mimetype": "text/x-python",
   "name": "python",
   "nbconvert_exporter": "python",
   "pygments_lexer": "ipython3",
   "version": "3.10.11"
  },
  "orig_nbformat": 4
 },
 "nbformat": 4,
 "nbformat_minor": 2
}
