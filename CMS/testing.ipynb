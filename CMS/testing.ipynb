{
 "cells": [
  {
   "cell_type": "code",
   "execution_count": null,
   "metadata": {},
   "outputs": [],
   "source": [
    "def quienGana(j1: str, j2: str) -> str: \n",
    "  res: str = \"Empate\"\n",
    "\n",
    "  if (j1 == \"Piedra\" and j2 == \"Tijera\") or (j1 == \"Tijera\" and j2 == \"Papel\") or (j1 == \"Papel\" and j2 == \"Piedra\"):\n",
    "    res = \"Jugador1\"\n",
    "  elif (j2 == \"Piedra\" and j1 == \"Tijera\") or (j2 == \"Tijera\" and j1 == \"Papel\") or (j2 == \"Papel\" and j1 == \"Piedra\"):\n",
    "    res = \"Jugador2\"  \n",
    "       \n",
    "  return res"
   ]
  },
  {
   "cell_type": "code",
   "execution_count": 23,
   "metadata": {},
   "outputs": [],
   "source": [
    "def fibonacciNoRecursivo(n: int) -> int:\n",
    "  res: int = 0\n",
    "  l: list = [0]\n",
    "\n",
    "  if n >= 1:\n",
    "    l.append(1)\n",
    "\n",
    "  if n > 1:\n",
    "    for i in range(2, n+1, 1):\n",
    "      l.append(l[i-1] + l[i-2])\n",
    "  \n",
    "  res = l[len(l)-1]\n",
    "\n",
    "  return res"
   ]
  },
  {
   "cell_type": "code",
   "execution_count": 27,
   "metadata": {},
   "outputs": [
    {
     "data": {
      "text/plain": [
       "233"
      ]
     },
     "execution_count": 27,
     "metadata": {},
     "output_type": "execute_result"
    }
   ],
   "source": [
    "fibonacciNoRecursivo(13)"
   ]
  },
  {
   "cell_type": "code",
   "execution_count": 142,
   "metadata": {},
   "outputs": [],
   "source": [
    "# Aclaración: Debido a la versión de Python del CMS, para el tipo Lista, la sintaxis de la definición de tipos que deben usar es la siguiente:\n",
    "# l: List[int]  <--Este es un ejemplo para una lista de enteros.\n",
    "# Respetar esta sintaxis, ya que el CMS dirá que no pasó ningún test si usan otra notación.\n",
    "#def mesetaMasLarga(l: List[int]) -> int :\n",
    "\n",
    "def mesetaMasLarga(l: list) -> int:  \n",
    "  res: int = 1\n",
    "  contador: int = 1\n",
    "\n",
    "  if len(l) == 0:\n",
    "    res: int = 0\n",
    "\n",
    "  if len(l) >= 2:\n",
    "    for i in range(0, len(l)-1, 1):\n",
    "      if l[i] == l[i+1]:\n",
    "        contador += 1\n",
    "      else: \n",
    "        contador = 1\n",
    "      if contador > res:\n",
    "        res = contador\n",
    "        \n",
    "  return res"
   ]
  },
  {
   "cell_type": "code",
   "execution_count": 148,
   "metadata": {},
   "outputs": [
    {
     "data": {
      "text/plain": [
       "4"
      ]
     },
     "execution_count": 148,
     "metadata": {},
     "output_type": "execute_result"
    }
   ],
   "source": [
    "mesetaMasLarga([1,1,2,3,3,3,3,5])"
   ]
  },
  {
   "cell_type": "code",
   "execution_count": 67,
   "metadata": {},
   "outputs": [
    {
     "name": "stdout",
     "output_type": "stream",
     "text": [
      "[1, 2, 4, 5]\n"
     ]
    }
   ],
   "source": [
    "l = [1, 2, 3, 4, 5]\n",
    "\n",
    "l.remove(3)\n",
    "\n",
    "print(l)"
   ]
  },
  {
   "cell_type": "code",
   "execution_count": 318,
   "metadata": {},
   "outputs": [],
   "source": [
    "def filasParecidas(matriz):\n",
    "  res: bool = True\n",
    "  enteros: list = []\n",
    "  \n",
    "  if len(matriz) > 1:\n",
    "    for i in range(1, len(matriz), 1):\n",
    "        for j in range(0, len(matriz[i]), 1):\n",
    "            enteros.append(matriz[len(matriz) -i -1][j] - matriz[len(matriz) - i][j])\n",
    "\n",
    "        print(enteros)\n",
    "        for s in range(0, len(enteros) - 1):\n",
    "            if enteros[s] != enteros[s+1]:\n",
    "                res = False\n",
    "                return res\n",
    "        enteros.clear()\n",
    "        \n",
    "  return res\n"
   ]
  },
  {
   "cell_type": "code",
   "execution_count": 322,
   "metadata": {},
   "outputs": [
    {
     "name": "stdout",
     "output_type": "stream",
     "text": [
      "[-5, -5]\n",
      "[-5, -5]\n",
      "[3, 3]\n",
      "[-2, -2]\n"
     ]
    },
    {
     "data": {
      "text/plain": [
       "True"
      ]
     },
     "execution_count": 322,
     "metadata": {},
     "output_type": "execute_result"
    }
   ],
   "source": [
    "A = [[0,1],[2,3],[-1,0],[4,5],[9,10]]\n",
    "filasParecidas(A)"
   ]
  },
  {
   "cell_type": "code",
   "execution_count": 290,
   "metadata": {},
   "outputs": [
    {
     "name": "stdout",
     "output_type": "stream",
     "text": [
      "[-2, -2, 2, -2, -2]\n",
      "False\n"
     ]
    }
   ],
   "source": [
    "A = [[1, 2, 3, 4, 5],[3, 4, 1, 6, 7]]\n",
    "a = []\n",
    "res = True\n",
    "\n",
    "for i in range(1, len(A), 1):\n",
    "    for j in range(0, len(A[i]), 1):\n",
    "        a.append(A[len(A) -i -1][j] - A[len(A) - i][j])\n",
    "print(a)\n",
    "\n",
    "for s in range(0, len(a) - 1):\n",
    "   if a[s] != a[s+1]:\n",
    "       res = False\n",
    "\n",
    "print(res)"
   ]
  },
  {
   "cell_type": "code",
   "execution_count": 455,
   "metadata": {},
   "outputs": [],
   "source": [
    "def sePuedeLlegar(origen: str, destino: str, vuelos):\n",
    "    \n",
    "    if origen == destino:\n",
    "      return 0\n",
    "\n",
    "    for vuelo in vuelos:\n",
    "      if vuelo[0] == origen:\n",
    "        cantidad = sePuedeLlegar(vuelo[1], destino, vuelos)\n",
    "        if cantidad != -1:\n",
    "          return 1 + cantidad\n",
    "\n",
    "    return -1\n"
   ]
  },
  {
   "cell_type": "code",
   "execution_count": 457,
   "metadata": {},
   "outputs": [
    {
     "data": {
      "text/plain": [
       "3"
      ]
     },
     "execution_count": 457,
     "metadata": {},
     "output_type": "execute_result"
    }
   ],
   "source": [
    "vuelos = [(\"ARG\",\"BOL\"),(\"BOL\",\"USA\"),(\"USA\",\"PERU\")]\n",
    "sePuedeLlegar(\"ARG\", \"PERU\", vuelos)"
   ]
  },
  {
   "cell_type": "code",
   "execution_count": 359,
   "metadata": {},
   "outputs": [],
   "source": [
    "def reducirlista(l: list):\n",
    "    if len(l) == 0:\n",
    "        print(\"Lista limpia\")\n",
    "        return\n",
    "    l.remove(l[len(l)-1])\n",
    "    print(l)\n",
    "    reducirlista(l)"
   ]
  },
  {
   "cell_type": "code",
   "execution_count": 367,
   "metadata": {},
   "outputs": [
    {
     "name": "stdout",
     "output_type": "stream",
     "text": [
      "[2, 3, 4, 5, 5, 6, 7]\n",
      "[2, 3, 4, 5, 5, 6]\n",
      "[2, 3, 4, 5, 5]\n",
      "[2, 3, 4, 5]\n",
      "[2, 3, 4]\n",
      "[2, 3]\n",
      "[2]\n",
      "[]\n",
      "Lista limpia\n"
     ]
    },
    {
     "ename": "IndexError",
     "evalue": "list index out of range",
     "output_type": "error",
     "traceback": [
      "\u001b[1;31m---------------------------------------------------------------------------\u001b[0m",
      "\u001b[1;31mIndexError\u001b[0m                                Traceback (most recent call last)",
      "Cell \u001b[1;32mIn[367], line 1\u001b[0m\n\u001b[1;32m----> 1\u001b[0m reducirlista([\u001b[39m2\u001b[39;49m,\u001b[39m3\u001b[39;49m,\u001b[39m4\u001b[39;49m,\u001b[39m5\u001b[39;49m,\u001b[39m5\u001b[39;49m,\u001b[39m6\u001b[39;49m,\u001b[39m7\u001b[39;49m,\u001b[39m8\u001b[39;49m])\n",
      "Cell \u001b[1;32mIn[359], line 6\u001b[0m, in \u001b[0;36mreducirlista\u001b[1;34m(l)\u001b[0m\n\u001b[0;32m      4\u001b[0m l\u001b[39m.\u001b[39mremove(l[\u001b[39mlen\u001b[39m(l)\u001b[39m-\u001b[39m\u001b[39m1\u001b[39m])\n\u001b[0;32m      5\u001b[0m \u001b[39mprint\u001b[39m(l)\n\u001b[1;32m----> 6\u001b[0m reducirlista(l)\n",
      "Cell \u001b[1;32mIn[359], line 6\u001b[0m, in \u001b[0;36mreducirlista\u001b[1;34m(l)\u001b[0m\n\u001b[0;32m      4\u001b[0m l\u001b[39m.\u001b[39mremove(l[\u001b[39mlen\u001b[39m(l)\u001b[39m-\u001b[39m\u001b[39m1\u001b[39m])\n\u001b[0;32m      5\u001b[0m \u001b[39mprint\u001b[39m(l)\n\u001b[1;32m----> 6\u001b[0m reducirlista(l)\n",
      "    \u001b[1;31m[... skipping similar frames: reducirlista at line 6 (5 times)]\u001b[0m\n",
      "Cell \u001b[1;32mIn[359], line 6\u001b[0m, in \u001b[0;36mreducirlista\u001b[1;34m(l)\u001b[0m\n\u001b[0;32m      4\u001b[0m l\u001b[39m.\u001b[39mremove(l[\u001b[39mlen\u001b[39m(l)\u001b[39m-\u001b[39m\u001b[39m1\u001b[39m])\n\u001b[0;32m      5\u001b[0m \u001b[39mprint\u001b[39m(l)\n\u001b[1;32m----> 6\u001b[0m reducirlista(l)\n",
      "Cell \u001b[1;32mIn[359], line 4\u001b[0m, in \u001b[0;36mreducirlista\u001b[1;34m(l)\u001b[0m\n\u001b[0;32m      2\u001b[0m \u001b[39mif\u001b[39;00m \u001b[39mlen\u001b[39m(l) \u001b[39m==\u001b[39m \u001b[39m0\u001b[39m:\n\u001b[0;32m      3\u001b[0m     \u001b[39mprint\u001b[39m(\u001b[39m\"\u001b[39m\u001b[39mLista limpia\u001b[39m\u001b[39m\"\u001b[39m)\n\u001b[1;32m----> 4\u001b[0m l\u001b[39m.\u001b[39mremove(l[\u001b[39mlen\u001b[39;49m(l)\u001b[39m-\u001b[39;49m\u001b[39m1\u001b[39;49m])\n\u001b[0;32m      5\u001b[0m \u001b[39mprint\u001b[39m(l)\n\u001b[0;32m      6\u001b[0m reducirlista(l)\n",
      "\u001b[1;31mIndexError\u001b[0m: list index out of range"
     ]
    }
   ],
   "source": [
    "reducirlista([2,3,4,5,5,6,7,8])"
   ]
  },
  {
   "cell_type": "code",
   "execution_count": 368,
   "metadata": {},
   "outputs": [
    {
     "name": "stdout",
     "output_type": "stream",
     "text": [
      "BOL\n"
     ]
    }
   ],
   "source": [
    "A = [(\"ARG\",\"BOL\"),(\"USA\",\"TAI\")]\n",
    "print(A[0][1])"
   ]
  }
 ],
 "metadata": {
  "kernelspec": {
   "display_name": "Python 3",
   "language": "python",
   "name": "python3"
  },
  "language_info": {
   "codemirror_mode": {
    "name": "ipython",
    "version": 3
   },
   "file_extension": ".py",
   "mimetype": "text/x-python",
   "name": "python",
   "nbconvert_exporter": "python",
   "pygments_lexer": "ipython3",
   "version": "3.10.11"
  },
  "orig_nbformat": 4
 },
 "nbformat": 4,
 "nbformat_minor": 2
}
