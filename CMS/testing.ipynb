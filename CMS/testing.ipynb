{
 "cells": [
  {
   "cell_type": "code",
   "execution_count": null,
   "metadata": {},
   "outputs": [],
   "source": [
    "def quienGana(j1: str, j2: str) -> str: \n",
    "  res: str = \"Empate\"\n",
    "\n",
    "  if (j1 == \"Piedra\" and j2 == \"Tijera\") or (j1 == \"Tijera\" and j2 == \"Papel\") or (j1 == \"Papel\" and j2 == \"Piedra\"):\n",
    "    res = \"Jugador1\"\n",
    "  elif (j2 == \"Piedra\" and j1 == \"Tijera\") or (j2 == \"Tijera\" and j1 == \"Papel\") or (j2 == \"Papel\" and j1 == \"Piedra\"):\n",
    "    res = \"Jugador2\"  \n",
    "       \n",
    "  return res"
   ]
  },
  {
   "cell_type": "code",
   "execution_count": 23,
   "metadata": {},
   "outputs": [],
   "source": [
    "def fibonacciNoRecursivo(n: int) -> int:\n",
    "  res: int = 0\n",
    "  l: list = [0]\n",
    "\n",
    "  if n >= 1:\n",
    "    l.append(1)\n",
    "\n",
    "  if n > 1:\n",
    "    for i in range(2, n+1, 1):\n",
    "      l.append(l[i-1] + l[i-2])\n",
    "  \n",
    "  res = l[len(l)-1]\n",
    "\n",
    "  return res"
   ]
  },
  {
   "cell_type": "code",
   "execution_count": 27,
   "metadata": {},
   "outputs": [
    {
     "data": {
      "text/plain": [
       "233"
      ]
     },
     "execution_count": 27,
     "metadata": {},
     "output_type": "execute_result"
    }
   ],
   "source": [
    "fibonacciNoRecursivo(13)"
   ]
  }
 ],
 "metadata": {
  "kernelspec": {
   "display_name": "Python 3",
   "language": "python",
   "name": "python3"
  },
  "language_info": {
   "codemirror_mode": {
    "name": "ipython",
    "version": 3
   },
   "file_extension": ".py",
   "mimetype": "text/x-python",
   "name": "python",
   "nbconvert_exporter": "python",
   "pygments_lexer": "ipython3",
   "version": "3.10.11"
  },
  "orig_nbformat": 4
 },
 "nbformat": 4,
 "nbformat_minor": 2
}
